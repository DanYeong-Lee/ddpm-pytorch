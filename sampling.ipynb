{
 "cells": [
  {
   "cell_type": "code",
   "execution_count": 18,
   "metadata": {},
   "outputs": [
    {
     "name": "stderr",
     "output_type": "stream",
     "text": [
      "1000it [00:24, 40.40it/s]\n"
     ]
    },
    {
     "data": {
      "image/png": "[encoded data removed]",
      "text/plain": [
       "<PIL.Image.Image image mode=RGB size=32x32>"
      ]
     },
     "execution_count": 18,
     "metadata": {},
     "output_type": "execute_result"
    }
   ],
   "source": [
    "from tqdm import tqdm\n",
    "import torch\n",
    "from torchvision import transforms\n",
    "from src.unet import Unet\n",
    "from src.noise_schedule import linear_noise_schedule\n",
    "from src.gaussian_diffusion import GaussianDiffusion\n",
    "\n",
    "\n",
    "inverse_transform = transforms.Compose([\n",
    "    transforms.Lambda(lambda x: (x + 1) / 2),\n",
    "    transforms.ToPILImage()\n",
    "])\n",
    "device = torch.device('cuda:0')\n",
    "\n",
    "model = Unet(\n",
    "    dim=32,\n",
    "    dim_mults=(1, 2, 4, 8),\n",
    "    channels=3,\n",
    ").to(device)\n",
    "\n",
    "beta = linear_noise_schedule()\n",
    "gd = GaussianDiffusion(beta).to(device)\n",
    "model.load_state_dict(torch.load('ckpts/unet_celeba.pth'))\n",
    "model.eval()\n",
    "\n",
    "samples = gd.sample(model, (16, 3, 32, 32))\n",
    "inverse_transform(samples[0])"
   ]
  },
  {
   "cell_type": "code",
   "execution_count": null,
   "metadata": {},
   "outputs": [],
   "source": []
  }
 ],
 "metadata": {
  "kernelspec": {
   "display_name": "pytorch20",
   "language": "python",
   "name": "pytorch20"
  },
  "language_info": {
   "codemirror_mode": {
    "name": "ipython",
    "version": 3
   },
   "file_extension": ".py",
   "mimetype": "text/x-python",
   "name": "python",
   "nbconvert_exporter": "python",
   "pygments_lexer": "ipython3",
   "version": "3.10.10"
  }
 },
 "nbformat": 4,
 "nbformat_minor": 4
}
